{
 "cells": [
  {
   "attachments": {},
   "cell_type": "markdown",
   "metadata": {},
   "source": [
    "# Cartpole\n",
    "\n",
    "The agent has to decide between two actions - moving the cart left or right - so that the pole attached to it stays upright.\n",
    "\n",
    "As the agent observes the current state of the environment and chooses an action, the environment transitions to a new state, and also returns a reward that indicates the consequences of the action. In this task, rewards are +1 for every incremental timestep and the environment terminates if the pole falls over too far or the cart moves more then 2.4 units away from center. This means better performing scenarios will run for longer duration, accumulating larger return.\n",
    "\n",
    "The CartPole task is designed so that the inputs to the agent are 4 real values representing the environment state (position, velocity, etc.). We take these 4 inputs without any scaling and pass them through a small fully-connected network with 2 outputs, one for each action. The network is trained to predict the expected value for each action, given the input state. The action with the highest expected value is then chosen."
   ]
  },
  {
   "cell_type": "code",
   "execution_count": 2,
   "metadata": {},
   "outputs": [
    {
     "ename": "ImportError",
     "evalue": "Requires gym v25 or v26, actual version: 0.27.0",
     "output_type": "error",
     "traceback": [
      "\u001b[0;31m---------------------------------------------------------------------------\u001b[0m",
      "\u001b[0;31mImportError\u001b[0m                               Traceback (most recent call last)",
      "\u001b[1;32m/Users/patrick/Documents/Reinforcement Learning/Cartpole/main.ipynb Cell 2\u001b[0m in \u001b[0;36m<cell line: 15>\u001b[0;34m()\u001b[0m\n\u001b[1;32m     <a href='vscode-notebook-cell:/Users/patrick/Documents/Reinforcement%20Learning/Cartpole/main.ipynb#W0sZmlsZQ%3D%3D?line=17'>18</a>\u001b[0m     env \u001b[39m=\u001b[39m gym\u001b[39m.\u001b[39mmake(\u001b[39m'\u001b[39m\u001b[39mCartPole-v1\u001b[39m\u001b[39m'\u001b[39m, new_step_api\u001b[39m=\u001b[39m\u001b[39mTrue\u001b[39;00m)\n\u001b[1;32m     <a href='vscode-notebook-cell:/Users/patrick/Documents/Reinforcement%20Learning/Cartpole/main.ipynb#W0sZmlsZQ%3D%3D?line=18'>19</a>\u001b[0m \u001b[39melse\u001b[39;00m:\n\u001b[0;32m---> <a href='vscode-notebook-cell:/Users/patrick/Documents/Reinforcement%20Learning/Cartpole/main.ipynb#W0sZmlsZQ%3D%3D?line=19'>20</a>\u001b[0m     \u001b[39mraise\u001b[39;00m \u001b[39mImportError\u001b[39;00m(\u001b[39mf\u001b[39m\u001b[39m\"\u001b[39m\u001b[39mRequires gym v25 or v26, actual version: \u001b[39m\u001b[39m{\u001b[39;00mgym\u001b[39m.\u001b[39m__version__\u001b[39m}\u001b[39;00m\u001b[39m\"\u001b[39m)\n\u001b[1;32m     <a href='vscode-notebook-cell:/Users/patrick/Documents/Reinforcement%20Learning/Cartpole/main.ipynb#W0sZmlsZQ%3D%3D?line=21'>22</a>\u001b[0m \u001b[39m# set up matplotlib\u001b[39;00m\n\u001b[1;32m     <a href='vscode-notebook-cell:/Users/patrick/Documents/Reinforcement%20Learning/Cartpole/main.ipynb#W0sZmlsZQ%3D%3D?line=22'>23</a>\u001b[0m is_ipython \u001b[39m=\u001b[39m \u001b[39m'\u001b[39m\u001b[39minline\u001b[39m\u001b[39m'\u001b[39m \u001b[39min\u001b[39;00m matplotlib\u001b[39m.\u001b[39mget_backend()\n",
      "\u001b[0;31mImportError\u001b[0m: Requires gym v25 or v26, actual version: 0.27.0"
     ]
    }
   ],
   "source": [
    "import gymnasium as gym\n",
    "import math\n",
    "import random\n",
    "import numpy as np\n",
    "import matplotlib\n",
    "import matplotlib.pyplot as plt\n",
    "from collections import namedtuple, deque\n",
    "from itertools import count\n",
    "\n",
    "import torch\n",
    "import torch.nn as nn\n",
    "import torch.optim as optim\n",
    "import torch.nn.functional as F\n",
    "\n",
    "if gym.__version__[:4] == '0.26' or gym.__version__[:4] == '0.27':\n",
    "    env = gym.make('CartPole-v1')\n",
    "elif gym.__version__[:4] == '0.25':\n",
    "    env = gym.make('CartPole-v1', new_step_api=True)\n",
    "else:\n",
    "    raise ImportError(f\"Requires gym v25 or v26, actual version: {gym.__version__}\")\n",
    "\n",
    "# set up matplotlib\n",
    "is_ipython = 'inline' in matplotlib.get_backend()\n",
    "if is_ipython:\n",
    "    from IPython import display\n",
    "\n",
    "plt.ion()\n",
    "\n",
    "# if gpu is to be used\n",
    "device = torch.device(\"cuda\" if torch.cuda.is_available() else \"cpu\")"
   ]
  },
  {
   "cell_type": "code",
   "execution_count": null,
   "metadata": {},
   "outputs": [],
   "source": []
  }
 ],
 "metadata": {
  "kernelspec": {
   "display_name": "drl",
   "language": "python",
   "name": "python3"
  },
  "language_info": {
   "codemirror_mode": {
    "name": "ipython",
    "version": 3
   },
   "file_extension": ".py",
   "mimetype": "text/x-python",
   "name": "python",
   "nbconvert_exporter": "python",
   "pygments_lexer": "ipython3",
   "version": "3.10.8"
  },
  "orig_nbformat": 4,
  "vscode": {
   "interpreter": {
    "hash": "28c168c855826d6a306c7ef584e2992a063631e8777795e1e4ec8bd8ff15ed8c"
   }
  }
 },
 "nbformat": 4,
 "nbformat_minor": 2
}
